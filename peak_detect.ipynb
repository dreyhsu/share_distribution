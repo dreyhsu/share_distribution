{
 "cells": [
  {
   "cell_type": "markdown",
   "metadata": {},
   "source": [
    "# 蠟燭線回測\n",
    "### 初始資料拿取"
   ]
  },
  {
   "cell_type": "code",
   "execution_count": 48,
   "metadata": {},
   "outputs": [],
   "source": [
    "import numpy as np\n",
    "import pandas as pd\n",
    "import talib\n",
    "from talib import MACD\n",
    "from scipy.signal import argrelextrema\n",
    "import matplotlib as plt\n",
    "\n",
    "%matplotlib inline"
   ]
  },
  {
   "cell_type": "code",
   "execution_count": 3,
   "metadata": {},
   "outputs": [],
   "source": [
    "df = pd.read_csv('TXF\\TXF.txt', sep=\",\")\n",
    "df['DateTime'] = df.Date + ' ' + df.Time"
   ]
  },
  {
   "cell_type": "code",
   "execution_count": 122,
   "metadata": {},
   "outputs": [],
   "source": [
    "prices = df.iloc[2000:2500,:].copy()"
   ]
  },
  {
   "cell_type": "code",
   "execution_count": 123,
   "metadata": {},
   "outputs": [],
   "source": [
    "def get_max_min(prices, smoothing, window_range):\n",
    "    smooth_prices = prices['Close'].rolling(window=smoothing).mean().dropna()\n",
    "    local_max = argrelextrema(smooth_prices.values, np.greater)[0]\n",
    "    local_min = argrelextrema(smooth_prices.values, np.less)[0]\n",
    "    price_local_max_dt = []\n",
    "\n",
    "    for i in local_max:\n",
    "        if (i>window_range) and (i<len(prices)-window_range):\n",
    "            price_local_max_dt.append(prices.iloc[i-window_range:i+window_range]['High'].idxmax())\n",
    "    price_local_min_dt = []\n",
    "    for i in local_min:\n",
    "        if (i>window_range) and (i<len(prices)-window_range):\n",
    "            price_local_min_dt.append(prices.iloc[i-window_range:i+window_range]['Low'].idxmin())  \n",
    "\n",
    "    maxima = pd.DataFrame(prices.loc[price_local_max_dt])\n",
    "    minima = pd.DataFrame(prices.loc[price_local_min_dt])\n",
    "#     max_min = pd.concat([maxima, minima]).sort_index()\n",
    "    maxima.index.name = 'date'\n",
    "    minima.index.name = 'date'\n",
    "    \n",
    "    maxima = maxima.reset_index()\n",
    "    maxima = maxima[~maxima.date.duplicated()]\n",
    "    p = prices.reset_index()   \n",
    "    maxima['day_num'] = p[p['index'].isin(maxima.date)].index.values\n",
    "    maxima = maxima.set_index('day_num')['High']\n",
    "    \n",
    "    minima = minima.reset_index()\n",
    "    minima = minima[~minima.date.duplicated()]  \n",
    "    minima['day_num'] = p[p['index'].isin(minima.date)].index.values\n",
    "    minima = minima.set_index('day_num')['Low']\n",
    "    \n",
    "    return maxima, minima"
   ]
  },
  {
   "cell_type": "code",
   "execution_count": 126,
   "metadata": {},
   "outputs": [],
   "source": [
    "smoothing = 5\n",
    "window = 20\n",
    "\n",
    "maxima, minima = get_max_min(prices, smoothing, window)"
   ]
  },
  {
   "cell_type": "code",
   "execution_count": 133,
   "metadata": {},
   "outputs": [
    {
     "data": {
      "text/plain": [
       "9390.0"
      ]
     },
     "execution_count": 133,
     "metadata": {},
     "output_type": "execute_result"
    }
   ],
   "source": [
    "maxima.iloc[0]"
   ]
  },
  {
   "cell_type": "code",
   "execution_count": 127,
   "metadata": {},
   "outputs": [
    {
     "data": {
      "text/plain": [
       "[<matplotlib.lines.Line2D at 0x1901fe2b988>]"
      ]
     },
     "execution_count": 127,
     "metadata": {},
     "output_type": "execute_result"
    },
    {
     "data": {
      "image/png": "[encoded data removed]",
      "text/plain": [
       "<Figure size 432x288 with 1 Axes>"
      ]
     },
     "metadata": {
      "needs_background": "light"
     },
     "output_type": "display_data"
    }
   ],
   "source": [
    "prices.reset_index()['Close'].plot()\n",
    "plt.pyplot.scatter(maxima.index, maxima.values, color='orange', alpha=.5)\n",
    "plt.pyplot.scatter(minima.index, minima.values, color='red', alpha=.5)\n",
    "\n",
    "x = minima.index\n",
    "y = minima.values\n",
    "plt.pyplot.plot(x, y)\n",
    "\n",
    "x = maxima.index\n",
    "y = maxima.values\n",
    "plt.pyplot.plot(x, y)"
   ]
  },
  {
   "cell_type": "code",
   "execution_count": 135,
   "metadata": {},
   "outputs": [
    {
     "name": "stderr",
     "output_type": "stream",
     "text": [
      "C:\\Users\\Drey\\anaconda3\\envs\\finlab\\lib\\site-packages\\ipykernel_launcher.py:23: RuntimeWarning: invalid value encountered in double_scalars\n"
     ]
    }
   ],
   "source": [
    "accumu = 0\n",
    "buy_point = 0\n",
    "close_now = 0\n",
    "exit_point = 0\n",
    "earn = []\n",
    "portion = 1\n",
    "smoothing = 5\n",
    "window = 20\n",
    "\n",
    "maxima, minima = get_max_min(df.iloc[100+i:200+i, :], smoothing, window)\n",
    "\n",
    "trend_index = []\n",
    "trend_price = []\n",
    "trend_index.append(minima.index[-1])\n",
    "trend_price.append(minima.values[-1])\n",
    "\n",
    "#initial\n",
    "buy_point = prices.Close.values[0]\n",
    "n = 200\n",
    "for i, close in enumerate(prices.Close.values):\n",
    "    diff = close - buy_point\n",
    "    maxima, minima = get_max_min(df.iloc[n-100+i:n+i, :], smoothing, window)\n",
    "    slope = (minima.values[-1] - trend_price[0])/( minima.index[-1] - trend_index[0] )\n",
    "    if diff < -20:\n",
    "        earn.append(diff)\n",
    "        portion = 0\n",
    "    \n",
    "    if portion == 1:\n",
    "        \n",
    "        if minima.index[-1] != trend_index[0]:\n",
    "            if minima.values[-1] > trend_price[0]:\n",
    "                slope = (minima.values[-1] - trend_price[0])/( minima.index[-1] - trend_index[0] )\n",
    "        target = minima.values[-1] + (n+i-minima.index[-1])*slope\n",
    "        \n",
    "        if close < target:\n",
    "            diff = close - buy_point\n",
    "            earn.append(diff)\n",
    "            portion = 0\n",
    "    \n",
    "    if portion == 0:\n",
    "        pass\n",
    "        \n",
    "        "
   ]
  },
  {
   "cell_type": "code",
   "execution_count": 136,
   "metadata": {},
   "outputs": [
    {
     "data": {
      "text/plain": [
       "[-35.0,\n",
       " -38.0,\n",
       " -30.0,\n",
       " -31.0,\n",
       " -25.0,\n",
       " -27.0,\n",
       " -26.0,\n",
       " -26.0,\n",
       " -30.0,\n",
       " -37.0,\n",
       " -26.0,\n",
       " -28.0,\n",
       " -40.0,\n",
       " -42.0,\n",
       " -50.0,\n",
       " -80.0,\n",
       " -98.0,\n",
       " -97.0,\n",
       " -98.0,\n",
       " -98.0,\n",
       " -100.0,\n",
       " -110.0,\n",
       " -134.0,\n",
       " -101.0,\n",
       " -100.0,\n",
       " -100.0,\n",
       " -100.0,\n",
       " -100.0,\n",
       " -91.0,\n",
       " -90.0,\n",
       " -99.0,\n",
       " -99.0,\n",
       " -99.0,\n",
       " -109.0,\n",
       " -101.0,\n",
       " -108.0,\n",
       " -109.0,\n",
       " -109.0,\n",
       " -100.0,\n",
       " -102.0,\n",
       " -108.0,\n",
       " -102.0,\n",
       " -90.0,\n",
       " -90.0,\n",
       " -71.0,\n",
       " -80.0,\n",
       " -80.0,\n",
       " -80.0,\n",
       " -80.0,\n",
       " -70.0,\n",
       " -65.0,\n",
       " -63.0,\n",
       " -65.0,\n",
       " -69.0,\n",
       " -65.0,\n",
       " -65.0,\n",
       " -65.0,\n",
       " -70.0,\n",
       " -72.0,\n",
       " -66.0,\n",
       " -65.0,\n",
       " -66.0,\n",
       " -70.0,\n",
       " -70.0,\n",
       " -70.0,\n",
       " -77.0,\n",
       " -70.0,\n",
       " -69.0,\n",
       " -70.0,\n",
       " -70.0,\n",
       " -75.0,\n",
       " -75.0,\n",
       " -75.0,\n",
       " -79.0,\n",
       " -80.0,\n",
       " -80.0,\n",
       " -85.0,\n",
       " -90.0,\n",
       " -90.0,\n",
       " -100.0,\n",
       " -100.0,\n",
       " -102.0,\n",
       " -101.0,\n",
       " -102.0,\n",
       " -99.0,\n",
       " -98.0,\n",
       " -82.0,\n",
       " -90.0,\n",
       " -90.0,\n",
       " -90.0,\n",
       " -98.0,\n",
       " -100.0,\n",
       " -91.0,\n",
       " -102.0,\n",
       " -102.0,\n",
       " -90.0,\n",
       " -105.0,\n",
       " -108.0,\n",
       " -115.0,\n",
       " -110.0,\n",
       " -110.0,\n",
       " -110.0,\n",
       " -115.0,\n",
       " -118.0,\n",
       " -118.0,\n",
       " -110.0,\n",
       " -110.0,\n",
       " -108.0,\n",
       " -95.0,\n",
       " -107.0,\n",
       " -100.0,\n",
       " -107.0,\n",
       " -86.0,\n",
       " -86.0,\n",
       " -90.0,\n",
       " -86.0,\n",
       " -94.0,\n",
       " -85.0,\n",
       " -100.0,\n",
       " -105.0,\n",
       " -105.0,\n",
       " -106.0,\n",
       " -90.0,\n",
       " -91.0,\n",
       " -85.0,\n",
       " -80.0,\n",
       " -80.0,\n",
       " -80.0,\n",
       " -80.0,\n",
       " -80.0,\n",
       " -83.0,\n",
       " -83.0,\n",
       " -81.0,\n",
       " -85.0,\n",
       " -85.0,\n",
       " -88.0,\n",
       " -90.0,\n",
       " -95.0,\n",
       " -100.0,\n",
       " -100.0,\n",
       " -92.0,\n",
       " -91.0,\n",
       " -90.0,\n",
       " -90.0,\n",
       " -90.0,\n",
       " -85.0,\n",
       " -65.0,\n",
       " -62.0,\n",
       " -55.0,\n",
       " -80.0,\n",
       " -82.0,\n",
       " -83.0,\n",
       " -80.0,\n",
       " -62.0,\n",
       " -62.0,\n",
       " -62.0,\n",
       " -71.0,\n",
       " -100.0,\n",
       " -110.0,\n",
       " -118.0,\n",
       " -121.0,\n",
       " -128.0,\n",
       " -110.0,\n",
       " -80.0,\n",
       " -121.0,\n",
       " -87.0,\n",
       " -87.0,\n",
       " -87.0,\n",
       " -80.0,\n",
       " -87.0,\n",
       " -74.0,\n",
       " -72.0,\n",
       " -71.0,\n",
       " -67.0,\n",
       " -62.0,\n",
       " -62.0,\n",
       " -62.0,\n",
       " -52.0,\n",
       " -65.0,\n",
       " -69.0,\n",
       " -65.0,\n",
       " -65.0,\n",
       " -65.0,\n",
       " -56.0,\n",
       " -55.0,\n",
       " -79.0,\n",
       " -55.0,\n",
       " -55.0,\n",
       " -53.0,\n",
       " -52.0,\n",
       " -50.0,\n",
       " -53.0,\n",
       " -42.0,\n",
       " -41.0,\n",
       " -50.0,\n",
       " -60.0,\n",
       " -68.0,\n",
       " -67.0,\n",
       " -42.0,\n",
       " -68.0,\n",
       " -55.0,\n",
       " -65.0,\n",
       " -69.0,\n",
       " -69.0,\n",
       " -68.0,\n",
       " -70.0,\n",
       " -69.0,\n",
       " -69.0,\n",
       " -70.0,\n",
       " -70.0,\n",
       " -76.0,\n",
       " -77.0,\n",
       " -80.0,\n",
       " -80.0,\n",
       " -87.0,\n",
       " -89.0,\n",
       " -89.0,\n",
       " -86.0,\n",
       " -86.0,\n",
       " -80.0,\n",
       " -80.0,\n",
       " -80.0,\n",
       " -77.0,\n",
       " -77.0,\n",
       " -77.0,\n",
       " -86.0,\n",
       " -86.0,\n",
       " -73.0,\n",
       " -72.0,\n",
       " -80.0,\n",
       " -73.0,\n",
       " -70.0,\n",
       " -69.0,\n",
       " -69.0,\n",
       " -68.0,\n",
       " -68.0,\n",
       " -70.0,\n",
       " -75.0,\n",
       " -74.0,\n",
       " -74.0,\n",
       " -74.0,\n",
       " -75.0,\n",
       " -74.0,\n",
       " -75.0,\n",
       " -75.0,\n",
       " -80.0,\n",
       " -85.0,\n",
       " -76.0,\n",
       " -80.0,\n",
       " -84.0,\n",
       " -80.0,\n",
       " -83.0,\n",
       " -85.0,\n",
       " -89.0,\n",
       " -90.0,\n",
       " -93.0,\n",
       " -99.0,\n",
       " -110.0,\n",
       " -109.0,\n",
       " -111.0,\n",
       " -111.0,\n",
       " -110.0,\n",
       " -110.0,\n",
       " -116.0,\n",
       " -115.0,\n",
       " -101.0,\n",
       " -110.0,\n",
       " -103.0,\n",
       " -100.0,\n",
       " -100.0,\n",
       " -95.0,\n",
       " -94.0,\n",
       " -94.0,\n",
       " -92.0,\n",
       " -95.0,\n",
       " -97.0,\n",
       " -100.0,\n",
       " -100.0,\n",
       " -100.0,\n",
       " -100.0,\n",
       " -100.0,\n",
       " -102.0,\n",
       " -109.0,\n",
       " -110.0,\n",
       " -114.0,\n",
       " -110.0,\n",
       " -105.0,\n",
       " -115.0,\n",
       " -110.0,\n",
       " -115.0,\n",
       " -122.0,\n",
       " -125.0,\n",
       " -138.0,\n",
       " -140.0,\n",
       " -142.0,\n",
       " -142.0,\n",
       " -147.0,\n",
       " -151.0,\n",
       " -160.0,\n",
       " -160.0,\n",
       " -160.0,\n",
       " -159.0,\n",
       " -155.0,\n",
       " -155.0,\n",
       " -155.0,\n",
       " -155.0,\n",
       " -100.0,\n",
       " -101.0,\n",
       " -110.0,\n",
       " -103.0,\n",
       " -103.0,\n",
       " -101.0,\n",
       " -110.0,\n",
       " -120.0,\n",
       " -120.0,\n",
       " -120.0,\n",
       " -130.0,\n",
       " -136.0,\n",
       " -139.0,\n",
       " -138.0,\n",
       " -140.0,\n",
       " -150.0,\n",
       " -150.0,\n",
       " -155.0,\n",
       " -159.0,\n",
       " -155.0,\n",
       " -160.0,\n",
       " -162.0,\n",
       " -166.0,\n",
       " -160.0,\n",
       " -155.0,\n",
       " -150.0,\n",
       " -145.0,\n",
       " -145.0,\n",
       " -141.0,\n",
       " -142.0,\n",
       " -140.0,\n",
       " -141.0,\n",
       " -142.0,\n",
       " -150.0,\n",
       " -150.0,\n",
       " -150.0,\n",
       " -160.0,\n",
       " -160.0,\n",
       " -160.0,\n",
       " -155.0,\n",
       " -151.0,\n",
       " -150.0,\n",
       " -150.0,\n",
       " -150.0,\n",
       " -149.0,\n",
       " -145.0,\n",
       " -142.0,\n",
       " -142.0,\n",
       " -141.0,\n",
       " -140.0,\n",
       " -131.0,\n",
       " -130.0,\n",
       " -129.0,\n",
       " -123.0,\n",
       " -125.0,\n",
       " -122.0,\n",
       " -121.0,\n",
       " -122.0,\n",
       " -112.0,\n",
       " -112.0,\n",
       " -116.0,\n",
       " -115.0,\n",
       " -120.0,\n",
       " -128.0,\n",
       " -125.0,\n",
       " -132.0,\n",
       " -130.0,\n",
       " -128.0,\n",
       " -125.0,\n",
       " -125.0,\n",
       " -130.0,\n",
       " -130.0,\n",
       " -127.0,\n",
       " -126.0,\n",
       " -130.0,\n",
       " -130.0,\n",
       " -130.0,\n",
       " -129.0,\n",
       " -130.0,\n",
       " -121.0,\n",
       " -120.0,\n",
       " -113.0,\n",
       " -105.0,\n",
       " -105.0,\n",
       " -100.0,\n",
       " -95.0,\n",
       " -100.0,\n",
       " -95.0,\n",
       " -95.0,\n",
       " -100.0,\n",
       " -104.0,\n",
       " -105.0,\n",
       " -104.0,\n",
       " -108.0,\n",
       " -101.0,\n",
       " -100.0,\n",
       " -99.0,\n",
       " -99.0,\n",
       " -104.0,\n",
       " -110.0,\n",
       " -115.0,\n",
       " -118.0,\n",
       " -119.0,\n",
       " -120.0,\n",
       " -120.0,\n",
       " -119.0,\n",
       " -119.0,\n",
       " -114.0,\n",
       " -115.0,\n",
       " -120.0,\n",
       " -114.0,\n",
       " -115.0,\n",
       " -120.0,\n",
       " -130.0,\n",
       " -130.0,\n",
       " -125.0,\n",
       " -125.0,\n",
       " -130.0,\n",
       " -137.0,\n",
       " -139.0,\n",
       " -136.0,\n",
       " -138.0,\n",
       " -139.0,\n",
       " -138.0,\n",
       " -151.0,\n",
       " -130.0,\n",
       " -139.0,\n",
       " -133.0,\n",
       " -128.0,\n",
       " -138.0,\n",
       " -130.0,\n",
       " -129.0,\n",
       " -128.0,\n",
       " -135.0,\n",
       " -138.0,\n",
       " -150.0,\n",
       " -150.0,\n",
       " -150.0,\n",
       " -150.0,\n",
       " -150.0,\n",
       " -140.0,\n",
       " -139.0,\n",
       " -139.0,\n",
       " -140.0,\n",
       " -145.0]"
      ]
     },
     "execution_count": 136,
     "metadata": {},
     "output_type": "execute_result"
    }
   ],
   "source": [
    "earn"
   ]
  },
  {
   "cell_type": "code",
   "execution_count": 193,
   "metadata": {},
   "outputs": [],
   "source": [
    "df['MA60'] = talib.SMA(df.Close, timeperiod=60)\n",
    "df['MA20'] = talib.SMA(df.Close, timeperiod=20)"
   ]
  },
  {
   "cell_type": "code",
   "execution_count": 194,
   "metadata": {},
   "outputs": [],
   "source": [
    "df['MACD'], df['MACDsignal'], macdhist = MACD(df['Close'], fastperiod=12, slowperiod=26, signalperiod=9)"
   ]
  },
  {
   "cell_type": "code",
   "execution_count": 195,
   "metadata": {},
   "outputs": [],
   "source": [
    "df['Diff'] = df['Close'] - df['MA20']\n",
    "df['MACD_Diff'] = df.MACD.diff()"
   ]
  },
  {
   "cell_type": "code",
   "execution_count": 196,
   "metadata": {},
   "outputs": [],
   "source": [
    "# compute buy and sell signals (golden cross and death cross)\n",
    "signal_long = (df.Diff > 0) & (df.MACD_Diff > 0)\n",
    "signal_short = (df.MACD_Diff < 0)\n",
    "# signal_long = (df.Close < df.MA20)\n",
    "# signal_short = (df.Close > df.MA20)\n",
    "# combine long and short signals\n",
    "signal = signal_long.copy()\n",
    "signal[signal_short] = -1"
   ]
  },
  {
   "cell_type": "code",
   "execution_count": 197,
   "metadata": {},
   "outputs": [
    {
     "data": {
      "text/plain": [
       "4996    False\n",
       "4997    False\n",
       "4998     True\n",
       "4999    False\n",
       "5000    False\n",
       "dtype: bool"
      ]
     },
     "execution_count": 197,
     "metadata": {},
     "output_type": "execute_result"
    }
   ],
   "source": [
    "buy.tail()"
   ]
  },
  {
   "cell_type": "code",
   "execution_count": 198,
   "metadata": {},
   "outputs": [],
   "source": [
    "close = df.Close\n",
    "open_ = df.Open"
   ]
  },
  {
   "cell_type": "markdown",
   "metadata": {},
   "source": [
    "### 計算買入時間"
   ]
  },
  {
   "cell_type": "code",
   "execution_count": 199,
   "metadata": {},
   "outputs": [
    {
     "data": {
      "text/plain": [
       "<AxesSubplot:>"
      ]
     },
     "execution_count": 199,
     "metadata": {},
     "output_type": "execute_result"
    },
    {
     "data": {
      "image/png": "[encoded data removed]",
      "text/plain": [
       "<Figure size 720x432 with 1 Axes>"
      ]
     },
     "metadata": {},
     "output_type": "display_data"
    }
   ],
   "source": [
    "buy = (signal > 0)\n",
    "sell = close < close.rolling(20).mean()\n",
    "    \n",
    "hold = pd.DataFrame(np.nan, index=close.index, columns=['Open'])\n",
    "hold[buy] = 1\n",
    "hold[sell] = 0\n",
    "hold.ffill(inplace=True)\n",
    "hold.fillna(0, inplace=True)\n",
    "hold = hold.shift()\n",
    "\n",
    "import matplotlib.pyplot as plt\n",
    "plt.style.use('ggplot')\n",
    "plt.rcParams['figure.figsize'] = (10, 6)\n",
    "hold.plot()"
   ]
  },
  {
   "cell_type": "markdown",
   "metadata": {},
   "source": [
    "### 計算報酬率"
   ]
  },
  {
   "cell_type": "code",
   "execution_count": 200,
   "metadata": {},
   "outputs": [],
   "source": [
    "import matplotlib.pyplot as plt\n",
    "\n",
    "gain = (open_.shift(-1).ffill() / open_.ffill()).to_frame()"
   ]
  },
  {
   "cell_type": "code",
   "execution_count": 201,
   "metadata": {},
   "outputs": [],
   "source": [
    "eq = (gain[hold == 1].mean(axis=1)).fillna(1).cumprod()\n",
    "# eq = gain[hold == 1]"
   ]
  },
  {
   "cell_type": "code",
   "execution_count": null,
   "metadata": {},
   "outputs": [],
   "source": []
  },
  {
   "cell_type": "code",
   "execution_count": 202,
   "metadata": {},
   "outputs": [
    {
     "data": {
      "text/plain": [
       "<AxesSubplot:>"
      ]
     },
     "execution_count": 202,
     "metadata": {},
     "output_type": "execute_result"
    },
    {
     "data": {
      "image/png": "[encoded data removed]",
      "text/plain": [
       "<Figure size 720x432 with 1 Axes>"
      ]
     },
     "metadata": {},
     "output_type": "display_data"
    }
   ],
   "source": [
    "draw_df = hold.copy()\n",
    "draw_df['eq'] = eq\n",
    "\n",
    "draw_df.plot()"
   ]
  },
  {
   "cell_type": "markdown",
   "metadata": {},
   "source": [
    "### 不要每天都rebalance"
   ]
  },
  {
   "cell_type": "code",
   "execution_count": 5,
   "metadata": {},
   "outputs": [
    {
     "data": {
      "text/plain": [
       "2.3126964791497087"
      ]
     },
     "execution_count": 5,
     "metadata": {},
     "output_type": "execute_result"
    },
    {
     "data": {
      "image/png": "[encoded data removed]",
      "text/plain": [
       "<Figure size 720x432 with 1 Axes>"
      ]
     },
     "metadata": {},
     "output_type": "display_data"
    }
   ],
   "source": [
    "rebalance = (hold.diff().abs().sum(axis=1) != 0).cumsum()\n",
    "rebalance_hold = hold[rebalance.diff() != 0]\n",
    "rebalance_gain = gain.groupby(rebalance.values).apply(lambda s:s.cumprod().iloc[-1])\n",
    "rebalance_gain.index = rebalance_hold.index\n",
    "\n",
    "# 手續費\n",
    "position_diff = rebalance_hold.div(rebalance_hold.sum(axis=1), axis=0).fillna(0).diff()\n",
    "tax_ratio = position_diff.copy()\n",
    "tax_ratio[tax_ratio < 0] *= (1.425/1000 + 3/1000)\n",
    "tax_ratio[tax_ratio > 0] *= (1.425/1000)\n",
    "tax_ratio = tax_ratio.abs().sum(axis=1)\n",
    "\n",
    "\n",
    "eq2 = (rebalance_gain[rebalance_hold == 1].mean(axis=1).fillna(1) * (1 - tax_ratio)).cumprod()\n",
    "eq2.plot()\n",
    "eq2.iloc[-1]"
   ]
  },
  {
   "cell_type": "markdown",
   "metadata": {},
   "source": [
    "## 考慮手續費"
   ]
  },
  {
   "cell_type": "code",
   "execution_count": 7,
   "metadata": {},
   "outputs": [],
   "source": [
    "import pickle\n",
    "pickle.dump(eq, open('return_history.pkl', 'wb'))"
   ]
  },
  {
   "cell_type": "code",
   "execution_count": null,
   "metadata": {},
   "outputs": [],
   "source": []
  }
 ],
 "metadata": {
  "kernelspec": {
   "display_name": "finlab",
   "language": "python",
   "name": "finlab"
  },
  "language_info": {
   "codemirror_mode": {
    "name": "ipython",
    "version": 3
   },
   "file_extension": ".py",
   "mimetype": "text/x-python",
   "name": "python",
   "nbconvert_exporter": "python",
   "pygments_lexer": "ipython3",
   "version": "3.7.10"
  }
 },
 "nbformat": 4,
 "nbformat_minor": 4
}
